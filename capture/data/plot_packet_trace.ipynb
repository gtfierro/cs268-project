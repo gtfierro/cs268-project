{
 "cells": [
  {
   "cell_type": "code",
   "execution_count": 234,
   "metadata": {
    "collapsed": true
   },
   "outputs": [],
   "source": [
    "import pandas as pd\n",
    "from matplotlib import pyplot as plt\n",
    "%matplotlib inline"
   ]
  },
  {
   "cell_type": "code",
   "execution_count": 83,
   "metadata": {
    "collapsed": true
   },
   "outputs": [],
   "source": [
    "filename = 'ONEHOP-2-motes-with-BR-no-traffic.csv'"
   ]
  },
  {
   "cell_type": "code",
   "execution_count": 244,
   "metadata": {
    "collapsed": false
   },
   "outputs": [],
   "source": [
    "COLS = ['time','src','dst','code','opt1','opt2']\n",
    "def parse_filename(fn):\n",
    "    f = open(fn).read().split('\\n')\n",
    "    records = []\n",
    "    for line in f:\n",
    "        elements = line.split(',')\n",
    "        if len(elements) < 2: continue\n",
    "        d, t = elements[0],elements[1]\n",
    "        last = elements[2:]\n",
    "        elements = [d+t] + last\n",
    "        records.append(dict(zip(COLS, elements)))\n",
    "    d = pd.DataFrame.from_records(records).dropna(how='all').fillna(0)\n",
    "    d[d['code'] == ''] = 0\n",
    "    d['code'] = d['code'].astype(int)\n",
    "    d['opt1'] = d['opt1'].astype(int)\n",
    "    d['opt2'] = d['opt2'].astype(int)\n",
    "    d['time'] = pd.to_datetime(d['time'])#.map(lambda x: x.strftime('%s'))\n",
    "    d['RS'] = 0\n",
    "    d['MeshInfo'] = 0\n",
    "    d['MeshAnnounce'] = 0\n",
    "    d.loc[(d['code'] == 0) & (d['opt1'] == 1) & (d['opt2'] == 0), 'RS'] = 1\n",
    "    d.loc[(d['code'] == 0) & (d['opt1'] == 1) & (d['opt2'] == 6), 'MeshInfo'] = 1\n",
    "    d.loc[(d['code'] == 0) & (d['opt1'] == 8), 'MeshAnnounce'] = 1\n",
    "    return d\n",
    "def get_bare_RS(df):\n",
    "    return df[(df['code'] == 0) & (df['opt1'] == 1) & (df['opt2'] == 0)]\n",
    "def get_RA_meshinfo(df):\n",
    "    return df[(df['code'] == 0) & (df['opt1'] == 1) & (df['opt2'] == 6)]\n",
    "def get_RA_meshannounce(df):\n",
    "    return df[(df['code'] == 0) & (df['opt1'] == 8)]"
   ]
  },
  {
   "cell_type": "code",
   "execution_count": 258,
   "metadata": {
    "collapsed": false
   },
   "outputs": [],
   "source": []
  },
  {
   "cell_type": "code",
   "execution_count": 268,
   "metadata": {
    "collapsed": false
   },
   "outputs": [
    {
     "data": {
      "text/plain": [
       "<matplotlib.axes._subplots.AxesSubplot at 0x7f70e342b990>"
      ]
     },
     "execution_count": 268,
     "metadata": {},
     "output_type": "execute_result"
    },
    {
     "data": {
      "text/plain": [
       "<matplotlib.figure.Figure at 0x7f70e37ab590>"
      ]
     },
     "metadata": {},
     "output_type": "display_data"
    },
    {
     "data": {
      "image/png": "[encoded data removed]",
      "text/plain": [
       "<matplotlib.figure.Figure at 0x7f70e33d9210>"
      ]
     },
     "metadata": {},
     "output_type": "display_data"
    }
   ],
   "source": [
    "# this file has: idle system, then BR crashes and comes back, then 2 nodes crash and come back\n",
    "d = parse_filename(filename)\n",
    "pf = d[['time','RS','MeshInfo','MeshAnnounce']]\n",
    "pf = pf.set_index('time')\n",
    "plt.clf()\n",
    "# last minute of experiement\n",
    "pf.resample('1s',how='max').tail(60).fillna(0).plot(style='-o')"
   ]
  },
  {
   "cell_type": "code",
   "execution_count": 252,
   "metadata": {
    "collapsed": false
   },
   "outputs": [],
   "source": [
    "pf.h"
   ]
  },
  {
   "cell_type": "code",
   "execution_count": null,
   "metadata": {
    "collapsed": true
   },
   "outputs": [],
   "source": []
  },
  {
   "cell_type": "code",
   "execution_count": null,
   "metadata": {
    "collapsed": false
   },
   "outputs": [],
   "source": []
  },
  {
   "cell_type": "code",
   "execution_count": null,
   "metadata": {
    "collapsed": true
   },
   "outputs": [],
   "source": []
  }
 ],
 "metadata": {
  "kernelspec": {
   "display_name": "Python 2",
   "language": "python",
   "name": "python2"
  },
  "language_info": {
   "codemirror_mode": {
    "name": "ipython",
    "version": 2
   },
   "file_extension": ".py",
   "mimetype": "text/x-python",
   "name": "python",
   "nbconvert_exporter": "python",
   "pygments_lexer": "ipython2",
   "version": "2.7.10"
  }
 },
 "nbformat": 4,
 "nbformat_minor": 0
}
